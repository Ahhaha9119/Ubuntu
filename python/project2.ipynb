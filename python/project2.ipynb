import numpy as np

path = np.array([0, 0, 0, 0])
trPath = np.array([0, 0, 0, 0])
d = np.array([0, 0, 0, 0])

A = np.array([[2, 4, -2, -2], [1, 2, 4, -3], [-3, -3, 8, -2], [-1, 1, 6, -3]])
b = np.array([[-4, 5, 7, 7]])

def trace(l, n, s):
    print("l =", l, "s =", s)

    if s == 0 and l == n:
        print("trace found", path)
        
        trPath = path
        return 0

    if l == n:
        print("Bottom", path)

        return 0



    for i in range(n):

        if d[i] == 0:
            print("A(", i, l, ")=", A[i, l])

            d[i] = 1
            path[l] = i

            trace(l + 1, n, s + A[i, l])

            d[i] = 0

trace(0, 4, 0)

print("trace = 0 while array row exchange path:", trPath)
